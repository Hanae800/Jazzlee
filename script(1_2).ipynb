{
  "nbformat": 4,
  "nbformat_minor": 0,
  "metadata": {
    "colab": {
      "name": "script(1#2).ipynb",
      "provenance": [],
      "collapsed_sections": [],
      "authorship_tag": "ABX9TyPS38r63sns/X1btTtwgYZ/",
      "include_colab_link": true
    },
    "kernelspec": {
      "name": "python3",
      "display_name": "Python 3"
    }
  },
  "cells": [
    {
      "cell_type": "markdown",
      "metadata": {
        "id": "view-in-github",
        "colab_type": "text"
      },
      "source": [
        "<a href=\"https://colab.research.google.com/github/Hanae800/Jazzlee/blob/master/script(1_2).ipynb\" target=\"_parent\"><img src=\"https://colab.research.google.com/assets/colab-badge.svg\" alt=\"Open In Colab\"/></a>"
      ]
    },
    {
      "cell_type": "code",
      "metadata": {
        "id": "qQONlNi0T7er"
      },
      "source": [
        "# we start by importing random selections\n",
        "import random \n",
        "# then import Markovify library \n",
        "import markovify\n",
        "# then import Dominate library \n",
        "import dominate\n",
        "from dominate.tags import*"
      ],
      "execution_count": 100,
      "outputs": []
    },
    {
      "cell_type": "code",
      "metadata": {
        "id": "T3dXLwvgqW8l"
      },
      "source": [
        "# copy the path of the first script below\n",
        "with open(\"/content/BirthofaNation.txt\") as f:\n",
        "    text = f.read()\n"
      ],
      "execution_count": 73,
      "outputs": []
    },
    {
      "cell_type": "code",
      "metadata": {
        "id": "pxGSYS_v0IYE"
      },
      "source": [
        "# copy the path of the second script below\n",
        "with open(\"/content/getout.txt\") as f:\n",
        "    text2 = f.read()\n",
        "#split the number of words\n",
        "    len(text2.split(' '))\n",
        "\n"
      ],
      "execution_count": 76,
      "outputs": []
    },
    {
      "cell_type": "code",
      "metadata": {
        "colab": {
          "base_uri": "https://localhost:8080/"
        },
        "id": "_qhD2my23vnD",
        "outputId": "0509b5fd-02aa-4909-cc00-d71868e4a2db"
      },
      "source": [
        "#Join the two texts \n",
        "print(len(text.split(' ')))\n",
        "text4 = \" \".join(text.split(' ')[0:17102])+text2\n",
        "len(text2.split(' '))"
      ],
      "execution_count": 79,
      "outputs": [
        {
          "output_type": "stream",
          "text": [
            "17102\n"
          ],
          "name": "stdout"
        },
        {
          "output_type": "execute_result",
          "data": {
            "text/plain": [
              "14456"
            ]
          },
          "metadata": {
            "tags": []
          },
          "execution_count": 79
        }
      ]
    },
    {
      "cell_type": "code",
      "metadata": {
        "id": "zrSd62q01tPs"
      },
      "source": [
        "text3 = text+text2"
      ],
      "execution_count": 21,
      "outputs": []
    },
    {
      "cell_type": "code",
      "metadata": {
        "colab": {
          "base_uri": "https://localhost:8080/"
        },
        "id": "5pV8-pFkzoZ1",
        "outputId": "e4d2d57c-5ba2-42c3-895d-9b8d80ee80c9"
      },
      "source": [
        "# Build the model based on differenyt words selections i have tried (Racist,Black,white,country,strong,love,race)\n",
        "text_model = markovify.Text(text4)\n",
        "candidates = []\n",
        "while len(candidates) < 20:\n",
        "  sentence = text_model.make_sentence()\n",
        "  if 'race' in str(sentence) and len(sentence.split(' ')) < 10:\n",
        "    candidates.append(sentence)\n",
        "    print('\\n' .join(candidates))"
      ],
      "execution_count": 94,
      "outputs": [
        {
          "output_type": "stream",
          "text": [
            "He realizes it’s not a blanket statement about race.\n",
            "He realizes it’s not a blanket statement about race.\n",
            "A long beat before they embrace.\n",
            "He realizes it’s not a blanket statement about race.\n",
            "A long beat before they embrace.\n",
            "Samuel bought him a beat before they embrace.\n",
            "He realizes it’s not a blanket statement about race.\n",
            "A long beat before they embrace.\n",
            "Samuel bought him a beat before they embrace.\n",
            "A strong embrace before he backs out.\n",
            "He realizes it’s not a blanket statement about race.\n",
            "A long beat before they embrace.\n",
            "Samuel bought him a beat before they embrace.\n",
            "A strong embrace before he backs out.\n",
            "Cherry smiles a beat before they embrace.\n",
            "He realizes it’s not a blanket statement about race.\n",
            "A long beat before they embrace.\n",
            "Samuel bought him a beat before they embrace.\n",
            "A strong embrace before he backs out.\n",
            "Cherry smiles a beat before they embrace.\n",
            "I’m a lover, not a blanket statement about race.\n",
            "He realizes it’s not a blanket statement about race.\n",
            "A long beat before they embrace.\n",
            "Samuel bought him a beat before they embrace.\n",
            "A strong embrace before he backs out.\n",
            "Cherry smiles a beat before they embrace.\n",
            "I’m a lover, not a blanket statement about race.\n",
            "I’m a lover, not a blanket statement about race.\n",
            "He realizes it’s not a blanket statement about race.\n",
            "A long beat before they embrace.\n",
            "Samuel bought him a beat before they embrace.\n",
            "A strong embrace before he backs out.\n",
            "Cherry smiles a beat before they embrace.\n",
            "I’m a lover, not a blanket statement about race.\n",
            "I’m a lover, not a blanket statement about race.\n",
            "He realizes it’s not a blanket statement about race.\n",
            "He realizes it’s not a blanket statement about race.\n",
            "A long beat before they embrace.\n",
            "Samuel bought him a beat before they embrace.\n",
            "A strong embrace before he backs out.\n",
            "Cherry smiles a beat before they embrace.\n",
            "I’m a lover, not a blanket statement about race.\n",
            "I’m a lover, not a blanket statement about race.\n",
            "He realizes it’s not a blanket statement about race.\n",
            "After a beat before they embrace.\n",
            "He realizes it’s not a blanket statement about race.\n",
            "A long beat before they embrace.\n",
            "Samuel bought him a beat before they embrace.\n",
            "A strong embrace before he backs out.\n",
            "Cherry smiles a beat before they embrace.\n",
            "I’m a lover, not a blanket statement about race.\n",
            "I’m a lover, not a blanket statement about race.\n",
            "He realizes it’s not a blanket statement about race.\n",
            "After a beat before they embrace.\n",
            "Cherry smiles a beat before they embrace.\n",
            "He realizes it’s not a blanket statement about race.\n",
            "A long beat before they embrace.\n",
            "Samuel bought him a beat before they embrace.\n",
            "A strong embrace before he backs out.\n",
            "Cherry smiles a beat before they embrace.\n",
            "I’m a lover, not a blanket statement about race.\n",
            "I’m a lover, not a blanket statement about race.\n",
            "He realizes it’s not a blanket statement about race.\n",
            "After a beat before they embrace.\n",
            "Cherry smiles a beat before they embrace.\n",
            "He strides past her and Joanna into an embrace.\n",
            "He realizes it’s not a blanket statement about race.\n",
            "A long beat before they embrace.\n",
            "Samuel bought him a beat before they embrace.\n",
            "A strong embrace before he backs out.\n",
            "Cherry smiles a beat before they embrace.\n",
            "I’m a lover, not a blanket statement about race.\n",
            "I’m a lover, not a blanket statement about race.\n",
            "He realizes it’s not a blanket statement about race.\n",
            "After a beat before they embrace.\n",
            "Cherry smiles a beat before they embrace.\n",
            "He strides past her and Joanna into an embrace.\n",
            "But it’s not a blanket statement about race.\n",
            "He realizes it’s not a blanket statement about race.\n",
            "A long beat before they embrace.\n",
            "Samuel bought him a beat before they embrace.\n",
            "A strong embrace before he backs out.\n",
            "Cherry smiles a beat before they embrace.\n",
            "I’m a lover, not a blanket statement about race.\n",
            "I’m a lover, not a blanket statement about race.\n",
            "He realizes it’s not a blanket statement about race.\n",
            "After a beat before they embrace.\n",
            "Cherry smiles a beat before they embrace.\n",
            "He strides past her and Joanna into an embrace.\n",
            "But it’s not a blanket statement about race.\n",
            "CATHERINE A long beat before they embrace.\n",
            "He realizes it’s not a blanket statement about race.\n",
            "A long beat before they embrace.\n",
            "Samuel bought him a beat before they embrace.\n",
            "A strong embrace before he backs out.\n",
            "Cherry smiles a beat before they embrace.\n",
            "I’m a lover, not a blanket statement about race.\n",
            "I’m a lover, not a blanket statement about race.\n",
            "He realizes it’s not a blanket statement about race.\n",
            "After a beat before they embrace.\n",
            "Cherry smiles a beat before they embrace.\n",
            "He strides past her and Joanna into an embrace.\n",
            "But it’s not a blanket statement about race.\n",
            "CATHERINE A long beat before they embrace.\n",
            "He realizes it’s not a blanket statement about race.\n",
            "He realizes it’s not a blanket statement about race.\n",
            "A long beat before they embrace.\n",
            "Samuel bought him a beat before they embrace.\n",
            "A strong embrace before he backs out.\n",
            "Cherry smiles a beat before they embrace.\n",
            "I’m a lover, not a blanket statement about race.\n",
            "I’m a lover, not a blanket statement about race.\n",
            "He realizes it’s not a blanket statement about race.\n",
            "After a beat before they embrace.\n",
            "Cherry smiles a beat before they embrace.\n",
            "He strides past her and Joanna into an embrace.\n",
            "But it’s not a blanket statement about race.\n",
            "CATHERINE A long beat before they embrace.\n",
            "He realizes it’s not a blanket statement about race.\n",
            "I’m a lover, not a blanket statement about race.\n",
            "He realizes it’s not a blanket statement about race.\n",
            "A long beat before they embrace.\n",
            "Samuel bought him a beat before they embrace.\n",
            "A strong embrace before he backs out.\n",
            "Cherry smiles a beat before they embrace.\n",
            "I’m a lover, not a blanket statement about race.\n",
            "I’m a lover, not a blanket statement about race.\n",
            "He realizes it’s not a blanket statement about race.\n",
            "After a beat before they embrace.\n",
            "Cherry smiles a beat before they embrace.\n",
            "He strides past her and Joanna into an embrace.\n",
            "But it’s not a blanket statement about race.\n",
            "CATHERINE A long beat before they embrace.\n",
            "He realizes it’s not a blanket statement about race.\n",
            "I’m a lover, not a blanket statement about race.\n",
            "I’m a lover, not a blanket statement about race.\n",
            "He realizes it’s not a blanket statement about race.\n",
            "A long beat before they embrace.\n",
            "Samuel bought him a beat before they embrace.\n",
            "A strong embrace before he backs out.\n",
            "Cherry smiles a beat before they embrace.\n",
            "I’m a lover, not a blanket statement about race.\n",
            "I’m a lover, not a blanket statement about race.\n",
            "He realizes it’s not a blanket statement about race.\n",
            "After a beat before they embrace.\n",
            "Cherry smiles a beat before they embrace.\n",
            "He strides past her and Joanna into an embrace.\n",
            "But it’s not a blanket statement about race.\n",
            "CATHERINE A long beat before they embrace.\n",
            "He realizes it’s not a blanket statement about race.\n",
            "I’m a lover, not a blanket statement about race.\n",
            "I’m a lover, not a blanket statement about race.\n",
            "A long beat before they embrace.\n",
            "He realizes it’s not a blanket statement about race.\n",
            "A long beat before they embrace.\n",
            "Samuel bought him a beat before they embrace.\n",
            "A strong embrace before he backs out.\n",
            "Cherry smiles a beat before they embrace.\n",
            "I’m a lover, not a blanket statement about race.\n",
            "I’m a lover, not a blanket statement about race.\n",
            "He realizes it’s not a blanket statement about race.\n",
            "After a beat before they embrace.\n",
            "Cherry smiles a beat before they embrace.\n",
            "He strides past her and Joanna into an embrace.\n",
            "But it’s not a blanket statement about race.\n",
            "CATHERINE A long beat before they embrace.\n",
            "He realizes it’s not a blanket statement about race.\n",
            "I’m a lover, not a blanket statement about race.\n",
            "I’m a lover, not a blanket statement about race.\n",
            "A long beat before they embrace.\n",
            "Samuel bought him a beat before they embrace.\n",
            "He realizes it’s not a blanket statement about race.\n",
            "A long beat before they embrace.\n",
            "Samuel bought him a beat before they embrace.\n",
            "A strong embrace before he backs out.\n",
            "Cherry smiles a beat before they embrace.\n",
            "I’m a lover, not a blanket statement about race.\n",
            "I’m a lover, not a blanket statement about race.\n",
            "He realizes it’s not a blanket statement about race.\n",
            "After a beat before they embrace.\n",
            "Cherry smiles a beat before they embrace.\n",
            "He strides past her and Joanna into an embrace.\n",
            "But it’s not a blanket statement about race.\n",
            "CATHERINE A long beat before they embrace.\n",
            "He realizes it’s not a blanket statement about race.\n",
            "I’m a lover, not a blanket statement about race.\n",
            "I’m a lover, not a blanket statement about race.\n",
            "A long beat before they embrace.\n",
            "Samuel bought him a beat before they embrace.\n",
            "Isaac studies Nat a beat before they embrace.\n",
            "He realizes it’s not a blanket statement about race.\n",
            "A long beat before they embrace.\n",
            "Samuel bought him a beat before they embrace.\n",
            "A strong embrace before he backs out.\n",
            "Cherry smiles a beat before they embrace.\n",
            "I’m a lover, not a blanket statement about race.\n",
            "I’m a lover, not a blanket statement about race.\n",
            "He realizes it’s not a blanket statement about race.\n",
            "After a beat before they embrace.\n",
            "Cherry smiles a beat before they embrace.\n",
            "He strides past her and Joanna into an embrace.\n",
            "But it’s not a blanket statement about race.\n",
            "CATHERINE A long beat before they embrace.\n",
            "He realizes it’s not a blanket statement about race.\n",
            "I’m a lover, not a blanket statement about race.\n",
            "I’m a lover, not a blanket statement about race.\n",
            "A long beat before they embrace.\n",
            "Samuel bought him a beat before they embrace.\n",
            "Isaac studies Nat a beat before they embrace.\n",
            "But it’s not a blanket statement about race.\n"
          ],
          "name": "stdout"
        }
      ]
    }
  ]
}